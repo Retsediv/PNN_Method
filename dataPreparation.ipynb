{
 "cells": [
  {
   "cell_type": "code",
   "execution_count": 11,
   "metadata": {},
   "outputs": [],
   "source": [
    "inputFileNames = [\"./dataset/synth/synth.te\", \"./dataset/synth/synth.tr\"]\n",
    "outputFileNames = [\"./dataset/synth/test.csv\", \"./dataset/synth/train.csv\"]"
   ]
  },
  {
   "cell_type": "code",
   "execution_count": 12,
   "metadata": {},
   "outputs": [],
   "source": [
    "def process(inputFileName, outputFileName):\n",
    "    inFile = open(inputFileName, \"r\")\n",
    "    outFile = open(outputFileName, \"w\")\n",
    "    for line in inFile:\n",
    "        line = line.split()\n",
    "        outFile.write(\",\".join(line) + \"\\n\")"
   ]
  },
  {
   "cell_type": "code",
   "execution_count": 13,
   "metadata": {},
   "outputs": [
    {
     "name": "stdout",
     "output_type": "stream",
     "text": [
      "C:\\Users\\george\\Desktop\\PNN_Method\n"
     ]
    }
   ],
   "source": [
    "for inputFileName, outputFileName in zip(inputFileNames, outputFileNames):\n",
    "    process(inputFileName, outputFileName)"
   ]
  },
  {
   "cell_type": "code",
   "execution_count": 15,
   "metadata": {},
   "outputs": [],
   "source": [
    "import pandas as pd"
   ]
  },
  {
   "cell_type": "code",
   "execution_count": 16,
   "metadata": {},
   "outputs": [
    {
     "name": "stdout",
     "output_type": "stream",
     "text": [
      "         xs        ys  yc\n",
      "0 -0.970990  0.429425   0\n",
      "1 -0.631997  0.251953   0\n",
      "2 -0.773606  0.690751   0\n",
      "3 -0.606212  0.175678   0\n",
      "4 -0.539409  0.376744   0\n",
      "         xs        ys  yc\n",
      "0  0.051008  0.160862   0\n",
      "1 -0.748074  0.089040   0\n",
      "2 -0.772934  0.263172   0\n",
      "3  0.218374  0.127061   0\n",
      "4  0.372683  0.496562   0\n"
     ]
    }
   ],
   "source": [
    "for fileName in outputFileNames:\n",
    "    df = pd.read_csv(fileName)\n",
    "    print(df.head())"
   ]
  }
 ],
 "metadata": {
  "kernelspec": {
   "display_name": "Python 3",
   "language": "python",
   "name": "python3"
  },
  "language_info": {
   "codemirror_mode": {
    "name": "ipython",
    "version": 3
   },
   "file_extension": ".py",
   "mimetype": "text/x-python",
   "name": "python",
   "nbconvert_exporter": "python",
   "pygments_lexer": "ipython3",
   "version": "3.5.6"
  }
 },
 "nbformat": 4,
 "nbformat_minor": 2
}
